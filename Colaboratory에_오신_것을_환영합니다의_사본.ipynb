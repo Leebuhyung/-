{
  "cells": [
    {
      "cell_type": "markdown",
      "metadata": {
        "id": "view-in-github",
        "colab_type": "text"
      },
      "source": [
        "<a href=\"https://colab.research.google.com/github/Leebuhyung/-/blob/main/Colaboratory%EC%97%90_%EC%98%A4%EC%8B%A0_%EA%B2%83%EC%9D%84_%ED%99%98%EC%98%81%ED%95%A9%EB%8B%88%EB%8B%A4%EC%9D%98_%EC%82%AC%EB%B3%B8.ipynb\" target=\"_parent\"><img src=\"https://colab.research.google.com/assets/colab-badge.svg\" alt=\"Open In Colab\"/></a>"
      ]
    },
    {
      "cell_type": "code",
      "source": [
        "print(\"Twinkle, twinkle, little star, \\n\\tHow I wonder what you are! \\n\\t\\tUp above the world so high, \\n\\t\\tLike a diamond in the sky. \\nTwinkle, twinkle, little star, \\n\\tHow I wonder what you are!\")"
      ],
      "metadata": {
        "colab": {
          "base_uri": "https://localhost:8080/"
        },
        "id": "Bws3vEesrX2v",
        "outputId": "8acae646-3039-4f09-8cb9-c167c7ee8110"
      },
      "execution_count": null,
      "outputs": [
        {
          "output_type": "stream",
          "name": "stdout",
          "text": [
            "Twinkle, twinkle, little star, \n",
            "\tHow I wonder what you are! \n",
            "\t\tUp above the world so high, \n",
            "\t\tLike a diamond in the sky. \n",
            "Twinkle, twinkle, little star, \n",
            "\tHow I wonder what you are!\n"
          ]
        }
      ]
    },
    {
      "cell_type": "code",
      "source": [
        "import sys\n",
        "print(\"Python version\")\n",
        "print (sys.version)\n",
        "print(\"Version info.\")\n",
        "print (sys.version_info)"
      ],
      "metadata": {
        "colab": {
          "base_uri": "https://localhost:8080/"
        },
        "id": "5SrbCkFZr95d",
        "outputId": "539d207f-8f33-4bab-ce17-0ce82be17cc7"
      },
      "execution_count": null,
      "outputs": [
        {
          "output_type": "stream",
          "name": "stdout",
          "text": [
            "Python version\n",
            "3.7.14 (default, Sep  8 2022, 00:06:44) \n",
            "[GCC 7.5.0]\n",
            "Version info.\n",
            "sys.version_info(major=3, minor=7, micro=14, releaselevel='final', serial=0)\n"
          ]
        }
      ]
    },
    {
      "cell_type": "code",
      "source": [
        "import datetime\n",
        "now = datetime.datetime.now()\n",
        "print (\"Current date and time : \")\n",
        "print (now.strftime(\"%Y-%m-%d %H:%M:%S\"))"
      ],
      "metadata": {
        "colab": {
          "base_uri": "https://localhost:8080/"
        },
        "id": "th9-9xg7sPbd",
        "outputId": "14706f97-cb7b-46dc-abf1-88496437955c"
      },
      "execution_count": null,
      "outputs": [
        {
          "output_type": "stream",
          "name": "stdout",
          "text": [
            "Current date and time : \n",
            "2022-09-19 07:41:11\n"
          ]
        }
      ]
    },
    {
      "cell_type": "code",
      "source": [
        "from math import pi\n",
        "r = float(input (\"Input the radius of the circle : \"))\n",
        "print (\"The area of the circle with radius \" + str(r) + \" is: \" + str(pi * r**2))"
      ],
      "metadata": {
        "colab": {
          "base_uri": "https://localhost:8080/"
        },
        "id": "CipXCljWsaod",
        "outputId": "345642ac-bd9e-491b-eb94-881699e3d954"
      },
      "execution_count": null,
      "outputs": [
        {
          "output_type": "stream",
          "name": "stdout",
          "text": [
            "Input the radius of the circle : 1.1\n",
            "The area of the circle with radius 1.1 is: 3.8013271108436504\n"
          ]
        }
      ]
    },
    {
      "cell_type": "code",
      "source": [
        "fname = input(\"Input your First Name : \")\n",
        "lname = input(\"Input your Last Name : \")\n",
        "print (\"Hello  \" + lname + \" \" + fname)\n"
      ],
      "metadata": {
        "colab": {
          "base_uri": "https://localhost:8080/"
        },
        "id": "W55zNUjFsz2F",
        "outputId": "463584b7-e62c-4796-93cd-0a7c32c8a463"
      },
      "execution_count": null,
      "outputs": [
        {
          "output_type": "stream",
          "name": "stdout",
          "text": [
            "Input your First Name : Lee\n",
            "Input your Last Name : Buhyung\n",
            "Hello  Buhyung Lee\n"
          ]
        }
      ]
    },
    {
      "cell_type": "code",
      "source": [
        "values = input(\"Input some comma seprated numbers : \")\n",
        "list = values.split(\",\")\n",
        "tuple = tuple(list)\n",
        "print('List : ',list)\n",
        "print('Tuple : ',tuple)"
      ],
      "metadata": {
        "id": "mGPmTyk9uFzk"
      },
      "execution_count": null,
      "outputs": []
    },
    {
      "cell_type": "code",
      "source": [
        "filename = input(\"Input the Filename: \")\n",
        "f_extns = filename.split(\".\")\n",
        "print (\"The extension of the file is : \" + repr(f_extns[-1]))"
      ],
      "metadata": {
        "id": "u270aRRquKwU"
      },
      "execution_count": null,
      "outputs": []
    },
    {
      "cell_type": "code",
      "source": [
        "filename = input(\"Input the Filename: \")\n",
        "f_extns = filename.split(\".\")\n",
        "print (\"The extension of the file is : \" + repr(f_extns[-1]))"
      ],
      "metadata": {
        "id": "8_wH2q8nwRFV"
      },
      "execution_count": null,
      "outputs": []
    }
  ],
  "metadata": {
    "colab": {
      "collapsed_sections": [],
      "provenance": [],
      "include_colab_link": true
    },
    "kernelspec": {
      "display_name": "Python 3",
      "name": "python3"
    }
  },
  "nbformat": 4,
  "nbformat_minor": 0
}