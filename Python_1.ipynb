{
  "nbformat": 4,
  "nbformat_minor": 0,
  "metadata": {
    "colab": {
      "name": "Python_1.ipynb",
      "provenance": [],
      "authorship_tag": "ABX9TyOIU9CZGLvIK0JhM/rRY1sn",
      "include_colab_link": true
    },
    "kernelspec": {
      "name": "python3",
      "display_name": "Python 3"
    },
    "language_info": {
      "name": "python"
    }
  },
  "cells": [
    {
      "cell_type": "markdown",
      "metadata": {
        "id": "view-in-github",
        "colab_type": "text"
      },
      "source": [
        "<a href=\"https://colab.research.google.com/github/Leebuhyung/-/blob/main/Python_1.ipynb\" target=\"_parent\"><img src=\"https://colab.research.google.com/assets/colab-badge.svg\" alt=\"Open In Colab\"/></a>"
      ]
    },
    {
      "cell_type": "code",
      "execution_count": 1,
      "metadata": {
        "colab": {
          "base_uri": "https://localhost:8080/"
        },
        "id": "IU5v8tpbmrSA",
        "outputId": "06322e73-9dcb-4576-9d64-ac2090506189"
      },
      "outputs": [
        {
          "output_type": "stream",
          "name": "stdout",
          "text": [
            "Hello World\n"
          ]
        }
      ],
      "source": [
        "print(\"Hello World\")"
      ]
    },
    {
      "cell_type": "code",
      "source": [
        "print('Hello World')"
      ],
      "metadata": {
        "colab": {
          "base_uri": "https://localhost:8080/"
        },
        "id": "79b1n8VunXZR",
        "outputId": "1f2327c5-2c40-4f2e-8406-514ff67d6af0"
      },
      "execution_count": 2,
      "outputs": [
        {
          "output_type": "stream",
          "name": "stdout",
          "text": [
            "Hello World\n"
          ]
        }
      ]
    },
    {
      "cell_type": "code",
      "source": [
        "print(1+2)"
      ],
      "metadata": {
        "colab": {
          "base_uri": "https://localhost:8080/"
        },
        "id": "U7AjUSYBnflI",
        "outputId": "219314ea-e574-4343-a311-f928aa20cc43"
      },
      "execution_count": 3,
      "outputs": [
        {
          "output_type": "stream",
          "name": "stdout",
          "text": [
            "3\n"
          ]
        }
      ]
    },
    {
      "cell_type": "code",
      "source": [
        "print(2*3)"
      ],
      "metadata": {
        "colab": {
          "base_uri": "https://localhost:8080/"
        },
        "id": "D3Xx1AoUnlyA",
        "outputId": "7b441f20-b03e-46f5-b9ca-21b118ba4ef5"
      },
      "execution_count": 5,
      "outputs": [
        {
          "output_type": "stream",
          "name": "stdout",
          "text": [
            "6\n"
          ]
        }
      ]
    },
    {
      "cell_type": "code",
      "source": [
        "print(True)"
      ],
      "metadata": {
        "colab": {
          "base_uri": "https://localhost:8080/"
        },
        "id": "BUY0VNMForbx",
        "outputId": "8897bc8b-5c88-4585-834d-7fc8810dc0f6"
      },
      "execution_count": 6,
      "outputs": [
        {
          "output_type": "stream",
          "name": "stdout",
          "text": [
            "True\n"
          ]
        }
      ]
    },
    {
      "cell_type": "code",
      "source": [
        "print(False)"
      ],
      "metadata": {
        "colab": {
          "base_uri": "https://localhost:8080/"
        },
        "id": "DOlrMuXso0wX",
        "outputId": "06728873-f760-4005-c6ec-6683afceea85"
      },
      "execution_count": 7,
      "outputs": [
        {
          "output_type": "stream",
          "name": "stdout",
          "text": [
            "False\n"
          ]
        }
      ]
    },
    {
      "cell_type": "code",
      "source": [
        "a = 3\n",
        "b = 4\n",
        "c = a+b\n",
        "print(c); print(a); print(b)\n"
      ],
      "metadata": {
        "colab": {
          "base_uri": "https://localhost:8080/"
        },
        "id": "PtQc9etJo9mX",
        "outputId": "cf7c19b1-6cee-42eb-84e1-6792aae8c560"
      },
      "execution_count": 10,
      "outputs": [
        {
          "output_type": "stream",
          "name": "stdout",
          "text": [
            "7\n",
            "3\n",
            "4\n"
          ]
        }
      ]
    },
    {
      "cell_type": "code",
      "source": [
        "a = \"안녕하세요.\";\n",
        "b = \"반갑습니다.\";\n",
        "c = a + b;\n",
        "print(c)"
      ],
      "metadata": {
        "colab": {
          "base_uri": "https://localhost:8080/"
        },
        "id": "BU6WpSBOpq5A",
        "outputId": "90b8c0d8-0829-4223-b169-29c15c611e23"
      },
      "execution_count": 12,
      "outputs": [
        {
          "output_type": "stream",
          "name": "stdout",
          "text": [
            "안녕하세요.반갑습니다.\n"
          ]
        }
      ]
    },
    {
      "cell_type": "code",
      "source": [
        "a = \"안녕하세요.\";\n",
        "b = a * 10;\n",
        "print(b)"
      ],
      "metadata": {
        "colab": {
          "base_uri": "https://localhost:8080/"
        },
        "id": "_Tgv_dgIqCwH",
        "outputId": "0217e2fb-bc56-406c-d686-8e99a334089f"
      },
      "execution_count": 16,
      "outputs": [
        {
          "output_type": "stream",
          "name": "stdout",
          "text": [
            "안녕하세요.안녕하세요.안녕하세요.안녕하세요.안녕하세요.안녕하세요.안녕하세요.안녕하세요.안녕하세요.안녕하세요.\n"
          ]
        }
      ]
    },
    {
      "cell_type": "code",
      "source": [
        "print(\"###############\")\n",
        "print(\"#\" * 15)"
      ],
      "metadata": {
        "colab": {
          "base_uri": "https://localhost:8080/"
        },
        "id": "atpLugtSqZgo",
        "outputId": "2288d404-f6e3-4229-e7c8-c4604e7761eb"
      },
      "execution_count": 18,
      "outputs": [
        {
          "output_type": "stream",
          "name": "stdout",
          "text": [
            "###############\n",
            "###############\n"
          ]
        }
      ]
    },
    {
      "cell_type": "markdown",
      "source": [
        "아버지와 어머니 그리고 삼촌에게 감사한 마음을 전하고 싶습니다.\n",
        "아버지에게는 10만원, 어머니에게 15만원, 삼촌에게는 \"감사합나다.\"\n",
        "변수 : _Father, _Mother, _Uncle"
      ],
      "metadata": {
        "id": "-wXb3WmLq1-H"
      }
    },
    {
      "cell_type": "code",
      "source": [
        "_Father = \"100,000\"\n",
        "_Mother = \"150,000\"\n",
        "_Uncle = \"감사합니다.\"\n",
        "print(\"아버지=\", _Father,\"원\")\n",
        "print(\"어머니=\", _Mother,\"원\")\n",
        "print(\"삼촌=\", _Uncle,)"
      ],
      "metadata": {
        "colab": {
          "base_uri": "https://localhost:8080/"
        },
        "id": "q7h6camRrpQn",
        "outputId": "e301e60b-3f26-4232-98d9-bc67ae4761f5"
      },
      "execution_count": 20,
      "outputs": [
        {
          "output_type": "stream",
          "name": "stdout",
          "text": [
            "아버지= 100,000 원\n",
            "어머니= 150,000 원\n",
            "삼촌= 감사합니다.\n"
          ]
        }
      ]
    },
    {
      "cell_type": "markdown",
      "source": [
        "변수의 규칙 : 문자 또는 _로 시작(Father, father, _father), 문자, 숫자, _구성\n",
        "(Father69, father55, father_56), 공백 절대 안된다. 안쓰는 것이 좋다. 특수문자 절대 안된다."
      ],
      "metadata": {
        "id": "d84oJwZFs0Of"
      }
    },
    {
      "cell_type": "markdown",
      "source": [
        "FATHER, father, MOTHER, mother, _Father, _father 모두 다른 변수로 취급된다.\n",
        "Keyword (True, False, for, while, if, continue, break, class  기타등등 예약어들이다."
      ],
      "metadata": {
        "id": "CrwF8F61tpr-"
      }
    },
    {
      "cell_type": "markdown",
      "source": [
        ""
      ],
      "metadata": {
        "id": "2KjeKcOZuWDV"
      }
    },
    {
      "cell_type": "markdown",
      "source": [
        "숫자자료형 = 숫자, 문자자료형 = 모든 문자들...."
      ],
      "metadata": {
        "id": "iCTXRBXjuaRl"
      }
    },
    {
      "cell_type": "code",
      "source": [
        "a = 2\n",
        "b = \"2\"\n",
        "c = a + int(b)\n",
        "print(c)"
      ],
      "metadata": {
        "colab": {
          "base_uri": "https://localhost:8080/"
        },
        "id": "VPcLG3l7uvLV",
        "outputId": "2b493dbd-5b07-4b05-d389-8e4207e9de85"
      },
      "execution_count": 22,
      "outputs": [
        {
          "output_type": "stream",
          "name": "stdout",
          "text": [
            "4\n"
          ]
        }
      ]
    },
    {
      "cell_type": "markdown",
      "source": [
        "형변환은 : 정수형을 변환할때int(), 실수형으로 변환할때float(), 문자자료형으로 변환할때str(), int(float(\"2.5))"
      ],
      "metadata": {
        "id": "e_LFBZQLu6jM"
      }
    },
    {
      "cell_type": "markdown",
      "source": [
        "산술연산자 : + 더하기(print(4+3), -빼기(print(2-1), *곱하기(print(5*4), /나누기(print(4/2), %나머지 print(5%2), // 몫print(6//2), ** 거듭제곱print(4**2)"
      ],
      "metadata": {
        "id": "neYLQsRRviqm"
      }
    }
  ]
}